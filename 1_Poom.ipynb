{
  "nbformat": 4,
  "nbformat_minor": 0,
  "metadata": {
    "colab": {
      "provenance": [],
      "authorship_tag": "ABX9TyOMfdt1Rva2Q0tsvLm1C3HC",
      "include_colab_link": true
    },
    "kernelspec": {
      "name": "python3",
      "display_name": "Python 3"
    },
    "language_info": {
      "name": "python"
    }
  },
  "cells": [
    {
      "cell_type": "markdown",
      "metadata": {
        "id": "view-in-github",
        "colab_type": "text"
      },
      "source": [
        "<a href=\"https://colab.research.google.com/github/PoomM150/Project-1_Coding/blob/main/1_Poom.ipynb\" target=\"_parent\"><img src=\"https://colab.research.google.com/assets/colab-badge.svg\" alt=\"Open In Colab\"/></a>"
      ]
    },
    {
      "cell_type": "markdown",
      "source": [
        "# เลขที่ 1 ภูมิ รัตนภูมิ อุดมผล\n",
        "no 1 poom ratanapoom"
      ],
      "metadata": {
        "id": "uBsagZO2dhj3"
      }
    },
    {
      "cell_type": "markdown",
      "source": [
        "# 20 พฤษภาคม 2567\n",
        "**หัวข้อการเรียนรู้ที่ได้เรียนวันนี้**\n",
        "- 1.ได้ทดลองการใช้คำสั่ง **print** ในการทักทาย และ การพิมพ์ตัวเลข(**Numberic**)โดยจะแบ่งออกเป็น 2 แบบ คือ เลขจำนวนเต็ม กับ เลขทศนิยม และการใช้คำสั่ง print นั้น ยังถือเป็นหนึ่งในการเขียน **Deta type** แบบ **string** อีกด้วย\n"
      ],
      "metadata": {
        "id": "D1rm9pJ-_Ftw"
      }
    },
    {
      "cell_type": "code",
      "execution_count": null,
      "metadata": {
        "id": "WfZF-gkVdfb-",
        "colab": {
          "base_uri": "https://localhost:8080/"
        },
        "outputId": "625ab404-871b-4544-b38f-0d38fd5df09f"
      },
      "outputs": [
        {
          "output_type": "stream",
          "name": "stdout",
          "text": [
            "Hello\n"
          ]
        }
      ],
      "source": [
        "print(\"Hello\")"
      ]
    },
    {
      "cell_type": "code",
      "source": [
        "print(\"Hello! My name is Poom,Nice to meet you.\")"
      ],
      "metadata": {
        "colab": {
          "base_uri": "https://localhost:8080/"
        },
        "id": "_7Dze4qqBINY",
        "outputId": "a5e3f0ea-813e-413c-d373-c1592646c1e6"
      },
      "execution_count": null,
      "outputs": [
        {
          "output_type": "stream",
          "name": "stdout",
          "text": [
            "Hello! My name is Poom,Nice to meet you.\n"
          ]
        }
      ]
    },
    {
      "cell_type": "code",
      "source": [
        "print(25)"
      ],
      "metadata": {
        "colab": {
          "base_uri": "https://localhost:8080/"
        },
        "id": "3dtKjOnNEktg",
        "outputId": "5e9bc454-6efe-4fdb-95d1-fdedf708ccd9"
      },
      "execution_count": null,
      "outputs": [
        {
          "output_type": "stream",
          "name": "stdout",
          "text": [
            "25\n"
          ]
        }
      ]
    },
    {
      "cell_type": "code",
      "source": [
        "print(5+5)"
      ],
      "metadata": {
        "colab": {
          "base_uri": "https://localhost:8080/"
        },
        "id": "vaJFCFgnFGxg",
        "outputId": "9d53b7ba-7f02-47a1-a744-bee45bb363bd"
      },
      "execution_count": null,
      "outputs": [
        {
          "output_type": "stream",
          "name": "stdout",
          "text": [
            "10\n"
          ]
        }
      ]
    },
    {
      "cell_type": "code",
      "source": [
        "print(\"5+5\")"
      ],
      "metadata": {
        "colab": {
          "base_uri": "https://localhost:8080/"
        },
        "id": "lQgn8I6tFNpF",
        "outputId": "8248e643-48b3-4900-fc60-b08c02c9e387"
      },
      "execution_count": null,
      "outputs": [
        {
          "output_type": "stream",
          "name": "stdout",
          "text": [
            "5+5\n"
          ]
        }
      ]
    },
    {
      "cell_type": "markdown",
      "source": [
        "# 29 พฤษภาคม 2567"
      ],
      "metadata": {
        "id": "SKzlKZSxZLfy"
      }
    },
    {
      "cell_type": "code",
      "source": [
        "a=2\n",
        "b=1.5\n",
        "c=\"M.4/4\"\n",
        "\n",
        "type(c)\n",
        "\n",
        "print(\"ตัวแปรของผม คือ name\")"
      ],
      "metadata": {
        "colab": {
          "base_uri": "https://localhost:8080/"
        },
        "id": "6QIJw99rZixp",
        "outputId": "9350e402-0a05-439a-91dc-7d60fdaa82af"
      },
      "execution_count": null,
      "outputs": [
        {
          "output_type": "stream",
          "name": "stdout",
          "text": [
            "ตัวแปรของผม คือ name\n"
          ]
        }
      ]
    },
    {
      "cell_type": "markdown",
      "source": [
        "# 5 มิถุนายน 2567\n",
        "**หัวข้อในการเรียนรู่้วันนี้**\n",
        "- ได้เรียนรู้การทำงานหลักๆของคอมพิวเตอร์ โดยจะแบ่งออกเป็น 3 หัวข้อ คือ\n",
        "  - 1**.input** คือ การส่งข้อมูลเข้าไปในเครื่อง แล้วรอการประมวณผล\n",
        "  - 2.**process** คือ การประมวณผลที่ได้รับเข้ามา แล้วส่งออก ในการประมวณผลนั้นมีหลายรูปแบบ สามารถทำให้ประมวณในรูปแบบใดก็ได้\n",
        "  - 3.**output** คือ การส่งข้อมูลที่ถูกประมวณผลเสร็จเรียบร้อยแล้ว ออกมาในรูปแบบของคำตอบ\n",
        "- ยกตัวอย่าง เช่น การส่งข้อมูลเข้า คือ Python แล้วให้มันประมวณผลแค่ตัวแรก ก็คือ P ดังนั้น ข้อมูลส่งออกที่จะได้ ก็คือ P"
      ],
      "metadata": {
        "id": "ed7iTN9DEzD-"
      }
    },
    {
      "cell_type": "code",
      "source": [
        "string=\"Python\"\n",
        "print(string[0])"
      ],
      "metadata": {
        "colab": {
          "base_uri": "https://localhost:8080/"
        },
        "id": "LZQ1GJ_iIl8p",
        "outputId": "00bbc487-cc02-444f-ef3c-044fadb3c991"
      },
      "execution_count": null,
      "outputs": [
        {
          "output_type": "stream",
          "name": "stdout",
          "text": [
            "P\n"
          ]
        }
      ]
    },
    {
      "cell_type": "markdown",
      "source": [
        "# 26 มิถุนายน 2567\n",
        "**หัวข้อในการเรียนรู้วันนี้**\n",
        "- ได้เรียนรุ้คำสั่ง input"
      ],
      "metadata": {
        "id": "EAUVa0odtyLi"
      }
    },
    {
      "cell_type": "code",
      "source": [
        "name=input(\"สวัสดีครับ ผมชื่อภูมิ \\nแล้วคุณชื่ออะไรหรอ\")\n",
        "print(\"ยินดีที่ได้รู้จักนะ\",name)"
      ],
      "metadata": {
        "colab": {
          "base_uri": "https://localhost:8080/"
        },
        "id": "HWUmNLh5wNRk",
        "outputId": "de807b3d-6ec2-4960-eb58-bd241c369bb9"
      },
      "execution_count": null,
      "outputs": [
        {
          "output_type": "stream",
          "name": "stdout",
          "text": [
            "สวัสดีครับ ผมชื่อภูมิ \n",
            "แล้วคุณชื่ออะไรหรอ ฟิร์ม\n",
            "ยินดีที่ได้รู้จักนะ  ฟิร์ม\n"
          ]
        }
      ]
    },
    {
      "cell_type": "code",
      "source": [
        "side = int(input(\"ความยาวด้าน(ซม.) คือ\"))\n",
        "area = side * side\n",
        "print(\"พื้นทื่สี่เหลี่ยม เท่ากับ\", area, \"ตร.ซม\" )"
      ],
      "metadata": {
        "colab": {
          "base_uri": "https://localhost:8080/"
        },
        "id": "aq1sPWqTzBoJ",
        "outputId": "2febb429-215a-4fe5-bb46-1e73da633c40"
      },
      "execution_count": null,
      "outputs": [
        {
          "output_type": "stream",
          "name": "stdout",
          "text": [
            "ความยาวด้าน(ซม.) คือ 5\n",
            "พื้นทื่สี่เหลี่ยม เท่ากับ 25 ตร.ซม\n"
          ]
        }
      ]
    },
    {
      "cell_type": "markdown",
      "source": [
        "# 1 กรกฎาคม 2567\n",
        "**หัวข้อในการเรียนรู้วันนี้**\n",
        "- การคำนวณพื้นที่รูปสี่เหลี่ยมผืนผ้า และการเขียนโปรแกรมสมการการเคลื่อนที่ทางตรง"
      ],
      "metadata": {
        "id": "IAJP1HbbP234"
      }
    },
    {
      "cell_type": "code",
      "source": [
        "side1 = int(input(\"ความยาวด้าน(ซม.)คือ\"))\n",
        "side2 = int(input(\"ความยาวด้าน(ซม.)คือ\"))\n",
        "area = side1 * side2\n",
        "print(\"พื้นที่สี่เหลี่ยมผืนผ้า เท่ากับ\", area,\"ตร.ซม\")"
      ],
      "metadata": {
        "colab": {
          "base_uri": "https://localhost:8080/"
        },
        "id": "LZhSyYyjQWbn",
        "outputId": "5f4afeda-90a7-43f2-d895-896174f05513"
      },
      "execution_count": null,
      "outputs": [
        {
          "output_type": "stream",
          "name": "stdout",
          "text": [
            "ความยาวด้าน(ซม.)คือ 5\n",
            "ความยาวด้าน(ซม.)คือ 7\n",
            "พื้นที่สี่เหลี่ยมผืนผ้า เท่ากับ 35 ตร.ซม\n"
          ]
        }
      ]
    },
    {
      "cell_type": "code",
      "source": [
        "s = float(input(\"ระยะทาง(ม.)คือ\"))\n",
        "t = float(input(\"เวลา(วินาที)คือ\"))\n",
        "v = s/t\n",
        "print(\"v เท่ากับ\" , v,\"m/s\")"
      ],
      "metadata": {
        "colab": {
          "base_uri": "https://localhost:8080/"
        },
        "id": "l2QmwqnWTB9I",
        "outputId": "a9961e37-f6dd-4523-f5ee-b5080ef702b6"
      },
      "execution_count": null,
      "outputs": [
        {
          "output_type": "stream",
          "name": "stdout",
          "text": [
            "ระยะทาง(ม.)คือ 10\n",
            "เวลา(วินาที)คือ 5\n",
            "v เท่ากับ 2.0 m/s\n"
          ]
        }
      ]
    }
  ]
}